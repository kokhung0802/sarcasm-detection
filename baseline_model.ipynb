{
 "cells": [
  {
   "cell_type": "code",
   "execution_count": 1,
   "id": "rising-suicide",
   "metadata": {},
   "outputs": [],
   "source": [
    "import pandas as pd\n",
    "import numpy as np\n",
    "import tensorflow as tf\n",
    "import tensorflow_datasets as tfds\n",
    "from tensorflow.keras.preprocessing import sequence\n",
    "from tensorflow.keras.preprocessing.text import Tokenizer\n",
    "from tensorflow.keras.preprocessing.sequence import pad_sequences\n",
    "from tensorflow.keras.layers import Embedding, LSTM, Bidirectional, Dense, Dropout\n",
    "from tensorflow.keras import Sequential"
   ]
  },
  {
   "cell_type": "code",
   "execution_count": 3,
   "id": "surprising-hospital",
   "metadata": {},
   "outputs": [],
   "source": [
    "train_df = pd.read_csv('C:/Users/kok19/Downloads/train.csv')"
   ]
  },
  {
   "cell_type": "code",
   "execution_count": 4,
   "id": "invisible-newsletter",
   "metadata": {},
   "outputs": [
    {
     "data": {
      "text/html": [
       "<div>\n",
       "<style scoped>\n",
       "    .dataframe tbody tr th:only-of-type {\n",
       "        vertical-align: middle;\n",
       "    }\n",
       "\n",
       "    .dataframe tbody tr th {\n",
       "        vertical-align: top;\n",
       "    }\n",
       "\n",
       "    .dataframe thead th {\n",
       "        text-align: right;\n",
       "    }\n",
       "</style>\n",
       "<table border=\"1\" class=\"dataframe\">\n",
       "  <thead>\n",
       "    <tr style=\"text-align: right;\">\n",
       "      <th></th>\n",
       "      <th>headline</th>\n",
       "      <th>is_sarcastic</th>\n",
       "    </tr>\n",
       "  </thead>\n",
       "  <tbody>\n",
       "    <tr>\n",
       "      <th>0</th>\n",
       "      <td>olympic torch used to ignite tibetan protesters</td>\n",
       "      <td>1</td>\n",
       "    </tr>\n",
       "    <tr>\n",
       "      <th>1</th>\n",
       "      <td>this 594-foot-high basketball shot 'for mankin...</td>\n",
       "      <td>0</td>\n",
       "    </tr>\n",
       "    <tr>\n",
       "      <th>2</th>\n",
       "      <td>dr. oz, mel gibson, &amp; congress called out usin...</td>\n",
       "      <td>0</td>\n",
       "    </tr>\n",
       "    <tr>\n",
       "      <th>3</th>\n",
       "      <td>excited juror feels like murder trial being pu...</td>\n",
       "      <td>1</td>\n",
       "    </tr>\n",
       "    <tr>\n",
       "      <th>4</th>\n",
       "      <td>man has mixed feelings about $39 flight</td>\n",
       "      <td>1</td>\n",
       "    </tr>\n",
       "  </tbody>\n",
       "</table>\n",
       "</div>"
      ],
      "text/plain": [
       "                                            headline  is_sarcastic\n",
       "0    olympic torch used to ignite tibetan protesters             1\n",
       "1  this 594-foot-high basketball shot 'for mankin...             0\n",
       "2  dr. oz, mel gibson, & congress called out usin...             0\n",
       "3  excited juror feels like murder trial being pu...             1\n",
       "4            man has mixed feelings about $39 flight             1"
      ]
     },
     "execution_count": 4,
     "metadata": {},
     "output_type": "execute_result"
    }
   ],
   "source": [
    "train_df.head()"
   ]
  },
  {
   "cell_type": "code",
   "execution_count": 5,
   "id": "unnecessary-isolation",
   "metadata": {},
   "outputs": [
    {
     "data": {
      "text/plain": [
       "(24038, 2)"
      ]
     },
     "execution_count": 5,
     "metadata": {},
     "output_type": "execute_result"
    }
   ],
   "source": [
    "train_df.shape"
   ]
  },
  {
   "cell_type": "code",
   "execution_count": 7,
   "id": "latin-inspiration",
   "metadata": {},
   "outputs": [],
   "source": [
    "x_train = train_df['headline'].copy()\n",
    "y_train = train_df['is_sarcastic'].copy()"
   ]
  },
  {
   "cell_type": "code",
   "execution_count": 8,
   "id": "short-fountain",
   "metadata": {},
   "outputs": [],
   "source": [
    "# Tokenization and padding\n",
    "max_features = 20000\n",
    "tokenizer = Tokenizer(num_words=max_features)\n",
    "tokenizer.fit_on_texts(list(x_train))\n",
    "tokenized_x_train = tokenizer.texts_to_sequences(x_train)\n",
    "padded = pad_sequences(tokenized_x_train, padding='post', maxlen=80)"
   ]
  },
  {
   "cell_type": "code",
   "execution_count": 10,
   "id": "utility-eagle",
   "metadata": {},
   "outputs": [],
   "source": [
    "# Load the pre-trained GloVe to embedding matrix\n",
    "\n",
    "# Step 1 - Extract information in GloVe to a python dict\n",
    "dict_glove = {}\n",
    "\n",
    "with open('./machine_learning/glove.6B.50d.txt', \"r\", encoding=\"utf8\") as file:\n",
    "    for line in file:\n",
    "        tokens = line.split()\n",
    "        word = tokens[0]\n",
    "        vector = np.array(tokens[1:], dtype=np.float32)\n",
    "        \n",
    "        if vector.shape[0] == 50:\n",
    "            dict_glove[word] = vector\n",
    "        else:\n",
    "            print(\"There is a problem with\" + word)"
   ]
  },
  {
   "cell_type": "code",
   "execution_count": 11,
   "id": "inner-layout",
   "metadata": {},
   "outputs": [
    {
     "name": "stdout",
     "output_type": "stream",
     "text": [
      "Dictionary size:  400000\n"
     ]
    }
   ],
   "source": [
    "print(\"Dictionary size: \", len(dict_glove))"
   ]
  },
  {
   "cell_type": "code",
   "execution_count": 12,
   "id": "owned-fellowship",
   "metadata": {},
   "outputs": [],
   "source": [
    "# Step 2 - Embedding matrix configurations\n",
    "embedding_dim = 50\n",
    "vocab_size = len(tokenizer.word_index) + 1 \n",
    "embedding_matrix = np.zeros((vocab_size, embedding_dim))"
   ]
  },
  {
   "cell_type": "code",
   "execution_count": 13,
   "id": "seeing-latino",
   "metadata": {},
   "outputs": [
    {
     "data": {
      "text/plain": [
       "(28131, 50)"
      ]
     },
     "execution_count": 13,
     "metadata": {},
     "output_type": "execute_result"
    }
   ],
   "source": [
    "embedding_matrix.shape"
   ]
  },
  {
   "cell_type": "code",
   "execution_count": 14,
   "id": "tribal-throw",
   "metadata": {},
   "outputs": [],
   "source": [
    "# Step 3 - Transfer information from python dict to embedding matrix\n",
    "unk_count = 0\n",
    "unk_set = set()\n",
    "\n",
    "for word in tokenizer.word_index:\n",
    "    embedding_vector = dict_glove.get(word)\n",
    "    \n",
    "    if embedding_vector is not None:\n",
    "        token_id = tokenizer.word_index[word]\n",
    "        embedding_matrix[token_id] = embedding_vector\n",
    "    else:\n",
    "        unk_count += 1\n",
    "        unk_set.add(word) "
   ]
  },
  {
   "cell_type": "code",
   "execution_count": 15,
   "id": "joined-portable",
   "metadata": {},
   "outputs": [
    {
     "name": "stdout",
     "output_type": "stream",
     "text": [
      "Total unknown words:  5449\n"
     ]
    }
   ],
   "source": [
    "print(\"Total unknown words: \", unk_count)"
   ]
  },
  {
   "cell_type": "code",
   "execution_count": 17,
   "id": "rocky-reynolds",
   "metadata": {},
   "outputs": [],
   "source": [
    "rnn_units = 64\n",
    "BATCH_SIZE = 8"
   ]
  },
  {
   "cell_type": "code",
   "execution_count": 24,
   "id": "crucial-wilderness",
   "metadata": {},
   "outputs": [],
   "source": [
    "def build_model_lstm(vocab_size, embedding_dim, rnn_units, batch_size, train_emb=False):\n",
    "    model = Sequential([\n",
    "        Embedding(vocab_size, embedding_dim, mask_zero=True, weights=[embedding_matrix], trainable=train_emb),\n",
    "        LSTM(rnn_units, return_sequences=True, dropout=0.5),\n",
    "        Dropout(0.1),\n",
    "        LSTM(rnn_units, dropout=0.25),\n",
    "        Dropout(0.1),\n",
    "        Dense(1, activation=\"sigmoid\")\n",
    "    ])\n",
    "    return model"
   ]
  },
  {
   "cell_type": "code",
   "execution_count": 25,
   "id": "traditional-harmony",
   "metadata": {},
   "outputs": [],
   "source": [
    "model_lstm = build_model_lstm(vocab_size=vocab_size,\n",
    "                                embedding_dim=embedding_dim,\n",
    "                                rnn_units=rnn_units,\n",
    "                                batch_size = BATCH_SIZE)"
   ]
  },
  {
   "cell_type": "code",
   "execution_count": 26,
   "id": "electric-broadway",
   "metadata": {},
   "outputs": [
    {
     "name": "stdout",
     "output_type": "stream",
     "text": [
      "Model: \"sequential_1\"\n",
      "_________________________________________________________________\n",
      "Layer (type)                 Output Shape              Param #   \n",
      "=================================================================\n",
      "embedding_1 (Embedding)      (None, None, 50)          1406550   \n",
      "_________________________________________________________________\n",
      "lstm_2 (LSTM)                (None, None, 64)          29440     \n",
      "_________________________________________________________________\n",
      "dropout_2 (Dropout)          (None, None, 64)          0         \n",
      "_________________________________________________________________\n",
      "lstm_3 (LSTM)                (None, 64)                33024     \n",
      "_________________________________________________________________\n",
      "dropout_3 (Dropout)          (None, 64)                0         \n",
      "_________________________________________________________________\n",
      "dense_1 (Dense)              (None, 1)                 65        \n",
      "=================================================================\n",
      "Total params: 1,469,079\n",
      "Trainable params: 62,529\n",
      "Non-trainable params: 1,406,550\n",
      "_________________________________________________________________\n"
     ]
    }
   ],
   "source": [
    "model_lstm.summary()"
   ]
  },
  {
   "cell_type": "code",
   "execution_count": 27,
   "id": "patient-drove",
   "metadata": {},
   "outputs": [],
   "source": [
    "model_lstm.compile(loss='binary_crossentropy', optimizer='adam', metrics=['accuracy'])"
   ]
  },
  {
   "cell_type": "code",
   "execution_count": 28,
   "id": "respected-documentary",
   "metadata": {},
   "outputs": [
    {
     "name": "stdout",
     "output_type": "stream",
     "text": [
      "Epoch 1/3\n",
      "2705/2705 [==============================] - 459s 170ms/step - loss: 0.5866 - accuracy: 0.6896 - val_loss: 0.4838 - val_accuracy: 0.7683\n",
      "Epoch 2/3\n",
      "2705/2705 [==============================] - 440s 163ms/step - loss: 0.5135 - accuracy: 0.7471 - val_loss: 0.4234 - val_accuracy: 0.8041\n",
      "Epoch 3/3\n",
      "2705/2705 [==============================] - 455s 168ms/step - loss: 0.4774 - accuracy: 0.7713 - val_loss: 0.3842 - val_accuracy: 0.8270\n"
     ]
    },
    {
     "data": {
      "text/plain": [
       "<tensorflow.python.keras.callbacks.History at 0x15071381a90>"
      ]
     },
     "execution_count": 28,
     "metadata": {},
     "output_type": "execute_result"
    }
   ],
   "source": [
    "model_lstm.fit(padded, y_train, batch_size=BATCH_SIZE, epochs=3, validation_split=0.1)"
   ]
  },
  {
   "cell_type": "code",
   "execution_count": 29,
   "id": "lined-format",
   "metadata": {},
   "outputs": [],
   "source": [
    "test_df = pd.read_csv('C:/Users/kok19/Downloads/test.csv')"
   ]
  },
  {
   "cell_type": "code",
   "execution_count": 30,
   "id": "guilty-shuttle",
   "metadata": {},
   "outputs": [],
   "source": [
    "x_test = test_df['headline'].copy()\n",
    "y_test = test_df['is_sarcastic'].copy()"
   ]
  },
  {
   "cell_type": "code",
   "execution_count": 31,
   "id": "atlantic-senior",
   "metadata": {},
   "outputs": [],
   "source": [
    "tokenized_x_test = tokenizer.texts_to_sequences(x_test)\n",
    "padded_test = pad_sequences(tokenized_x_test, padding='post', maxlen=80)"
   ]
  },
  {
   "cell_type": "code",
   "execution_count": 32,
   "id": "organizational-compiler",
   "metadata": {},
   "outputs": [
    {
     "name": "stdout",
     "output_type": "stream",
     "text": [
      "84/84 [==============================] - 7s 88ms/step - loss: 0.3842 - accuracy: 0.8300\n"
     ]
    },
    {
     "data": {
      "text/plain": [
       "[0.38416826725006104, 0.8300262093544006]"
      ]
     },
     "execution_count": 32,
     "metadata": {},
     "output_type": "execute_result"
    }
   ],
   "source": [
    "model_lstm.evaluate(padded_test, y_test)"
   ]
  },
  {
   "cell_type": "code",
   "execution_count": null,
   "id": "filled-order",
   "metadata": {},
   "outputs": [],
   "source": []
  }
 ],
 "metadata": {
  "kernelspec": {
   "display_name": "Python 3",
   "language": "python",
   "name": "python3"
  },
  "language_info": {
   "codemirror_mode": {
    "name": "ipython",
    "version": 3
   },
   "file_extension": ".py",
   "mimetype": "text/x-python",
   "name": "python",
   "nbconvert_exporter": "python",
   "pygments_lexer": "ipython3",
   "version": "3.8.5"
  }
 },
 "nbformat": 4,
 "nbformat_minor": 5
}
